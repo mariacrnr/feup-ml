{
 "cells": [
  {
   "cell_type": "code",
   "execution_count": 3,
   "metadata": {},
   "outputs": [],
   "source": [
    "import sklearn as sk\n",
    "import sklearn.model_selection as skm\n",
    "import sklearn.ensemble as ske\n",
    "import pandas as pd\n",
    "import matplotlib as mlt\n",
    "import matplotlib.pyplot as plt\n",
    "from sklearn.metrics import classification_report, confusion_matrix"
   ]
  },
  {
   "cell_type": "code",
   "execution_count": 4,
   "metadata": {},
   "outputs": [
    {
     "name": "stdout",
     "output_type": "stream",
     "text": [
      "     loan_id  account_id    date  amount  duration  payments  status\n",
      "0       5314        1787  930705   96396        12      8033      -1\n",
      "1       5316        1801  930711  165960        36      4610       1\n",
      "2       6863        9188  930728  127080        60      2118       1\n",
      "3       5325        1843  930803  105804        36      2939       1\n",
      "4       7240       11013  930906  274740        60      4579       1\n",
      "..       ...         ...     ...     ...       ...       ...     ...\n",
      "323     6818        9030  961212  155616        48      3242       1\n",
      "324     5625        3189  961215  222180        60      3703      -1\n",
      "325     6805        8972  961221   45024        48       938       1\n",
      "326     7233       10963  961225  115812        36      3217       1\n",
      "327     7308       11362  961227  129408        24      5392       1\n",
      "\n",
      "[328 rows x 7 columns]\n",
      "     loan_id  account_id    date  amount  duration  payments  status\n",
      "0       5314        1787  930705   96396        12      8033       0\n",
      "1       5316        1801  930711  165960        36      4610       1\n",
      "2       6863        9188  930728  127080        60      2118       1\n",
      "3       5325        1843  930803  105804        36      2939       1\n",
      "4       7240       11013  930906  274740        60      4579       1\n",
      "..       ...         ...     ...     ...       ...       ...     ...\n",
      "323     6818        9030  961212  155616        48      3242       1\n",
      "324     5625        3189  961215  222180        60      3703       0\n",
      "325     6805        8972  961221   45024        48       938       1\n",
      "326     7233       10963  961225  115812        36      3217       1\n",
      "327     7308       11362  961227  129408        24      5392       1\n",
      "\n",
      "[328 rows x 7 columns]\n"
     ]
    }
   ],
   "source": [
    "loans = pd.read_csv('data/loan_dev.csv', sep=';')\n",
    "print(loans)\n",
    "loans.loc[loans.status == -1, 'status'] = 0\n",
    "print(loans)"
   ]
  },
  {
   "cell_type": "code",
   "execution_count": 5,
   "metadata": {},
   "outputs": [],
   "source": [
    "input_names = list(loans.columns)\n",
    "input_names.remove('status')\n",
    "\n",
    "all_labels = loans['status'].values\n",
    "all_inputs = loans[input_names].values"
   ]
  },
  {
   "cell_type": "code",
   "execution_count": 8,
   "metadata": {},
   "outputs": [],
   "source": [
    "(training_inputs,\n",
    " testing_inputs,\n",
    " training_labels,\n",
    " testing_labels) = skm.train_test_split(all_inputs, all_labels, test_size=0.20, random_state=1, stratify=all_labels)"
   ]
  },
  {
   "cell_type": "code",
   "execution_count": 9,
   "metadata": {},
   "outputs": [
    {
     "name": "stdout",
     "output_type": "stream",
     "text": [
      "[[ 2  7]\n",
      " [ 4 53]]\n",
      "              precision    recall  f1-score   support\n",
      "\n",
      "           0       0.33      0.22      0.27         9\n",
      "           1       0.88      0.93      0.91        57\n",
      "\n",
      "    accuracy                           0.83        66\n",
      "   macro avg       0.61      0.58      0.59        66\n",
      "weighted avg       0.81      0.83      0.82        66\n",
      "\n"
     ]
    }
   ],
   "source": [
    "rf = ske.RandomForestClassifier()\n",
    "\n",
    "rf.fit(training_inputs, training_labels)\n",
    "\n",
    "pred = rf.predict(testing_inputs)\n",
    "\n",
    "print(confusion_matrix(testing_labels, pred))\n",
    "print(classification_report(testing_labels, pred))"
   ]
  }
 ],
 "metadata": {
  "kernelspec": {
   "display_name": "Python 3.10.4 64-bit",
   "language": "python",
   "name": "python3"
  },
  "language_info": {
   "codemirror_mode": {
    "name": "ipython",
    "version": 3
   },
   "file_extension": ".py",
   "mimetype": "text/x-python",
   "name": "python",
   "nbconvert_exporter": "python",
   "pygments_lexer": "ipython3",
   "version": "3.10.4"
  },
  "orig_nbformat": 4,
  "vscode": {
   "interpreter": {
    "hash": "97cc609b13305c559618ec78a438abc56230b9381f827f22d070313b9a1f3777"
   }
  }
 },
 "nbformat": 4,
 "nbformat_minor": 2
}
