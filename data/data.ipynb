{
 "cells": [
  {
   "cell_type": "code",
   "execution_count": 498,
   "metadata": {},
   "outputs": [],
   "source": [
    "import pandas as pd\n",
    "import matplotlib.pyplot as plt\n",
    "import seaborn as sns\n",
    "import datetime\n",
    "import numpy as np\n",
    "\n",
    "%matplotlib inline  "
   ]
  },
  {
   "cell_type": "code",
   "execution_count": 499,
   "metadata": {},
   "outputs": [
    {
     "name": "stderr",
     "output_type": "stream",
     "text": [
      "c:\\Users\\ASUS\\anaconda3\\lib\\site-packages\\IPython\\core\\interactiveshell.py:3071: DtypeWarning: Columns (8) have mixed types.Specify dtype option on import or set low_memory=False.\n",
      "  has_raised = await self.run_ast_nodes(code_ast.body, cell_name,\n"
     ]
    }
   ],
   "source": [
    "account = pd.read_csv('raw/account.csv',sep=';')\n",
    "card = pd.read_csv('raw/card_dev.csv',sep=';')\n",
    "client = pd.read_csv('raw/client.csv',sep=';')\n",
    "disp = pd.read_csv('raw/disp.csv', sep=';')\n",
    "district = pd.read_csv('raw/district.csv', sep=';')\n",
    "loan = pd.read_csv('raw/loan_dev.csv', sep=';')\n",
    "trans = pd.read_csv('raw/trans_dev.csv', sep=';')"
   ]
  },
  {
   "cell_type": "markdown",
   "metadata": {},
   "source": [
    "# Data processing"
   ]
  },
  {
   "cell_type": "markdown",
   "metadata": {},
   "source": [
    "### Extract gender and birth date from birth number"
   ]
  },
  {
   "cell_type": "markdown",
   "metadata": {},
   "source": [
    "The gender and birth date can be extracted from the birth number."
   ]
  },
  {
   "cell_type": "code",
   "execution_count": 500,
   "metadata": {},
   "outputs": [
    {
     "data": {
      "text/html": [
       "<div>\n",
       "<style scoped>\n",
       "    .dataframe tbody tr th:only-of-type {\n",
       "        vertical-align: middle;\n",
       "    }\n",
       "\n",
       "    .dataframe tbody tr th {\n",
       "        vertical-align: top;\n",
       "    }\n",
       "\n",
       "    .dataframe thead th {\n",
       "        text-align: right;\n",
       "    }\n",
       "</style>\n",
       "<table border=\"1\" class=\"dataframe\">\n",
       "  <thead>\n",
       "    <tr style=\"text-align: right;\">\n",
       "      <th></th>\n",
       "      <th>client_id</th>\n",
       "      <th>district_id</th>\n",
       "      <th>gender</th>\n",
       "      <th>birth_date</th>\n",
       "    </tr>\n",
       "  </thead>\n",
       "  <tbody>\n",
       "    <tr>\n",
       "      <th>0</th>\n",
       "      <td>1</td>\n",
       "      <td>18</td>\n",
       "      <td>F</td>\n",
       "      <td>1970-12-13</td>\n",
       "    </tr>\n",
       "    <tr>\n",
       "      <th>1</th>\n",
       "      <td>2</td>\n",
       "      <td>1</td>\n",
       "      <td>M</td>\n",
       "      <td>1945-02-04</td>\n",
       "    </tr>\n",
       "    <tr>\n",
       "      <th>2</th>\n",
       "      <td>3</td>\n",
       "      <td>1</td>\n",
       "      <td>F</td>\n",
       "      <td>1940-10-09</td>\n",
       "    </tr>\n",
       "    <tr>\n",
       "      <th>3</th>\n",
       "      <td>4</td>\n",
       "      <td>5</td>\n",
       "      <td>M</td>\n",
       "      <td>1956-12-01</td>\n",
       "    </tr>\n",
       "    <tr>\n",
       "      <th>4</th>\n",
       "      <td>5</td>\n",
       "      <td>5</td>\n",
       "      <td>F</td>\n",
       "      <td>1960-07-03</td>\n",
       "    </tr>\n",
       "    <tr>\n",
       "      <th>...</th>\n",
       "      <td>...</td>\n",
       "      <td>...</td>\n",
       "      <td>...</td>\n",
       "      <td>...</td>\n",
       "    </tr>\n",
       "    <tr>\n",
       "      <th>5364</th>\n",
       "      <td>13955</td>\n",
       "      <td>1</td>\n",
       "      <td>F</td>\n",
       "      <td>1945-10-30</td>\n",
       "    </tr>\n",
       "    <tr>\n",
       "      <th>5365</th>\n",
       "      <td>13956</td>\n",
       "      <td>1</td>\n",
       "      <td>M</td>\n",
       "      <td>1943-04-06</td>\n",
       "    </tr>\n",
       "    <tr>\n",
       "      <th>5366</th>\n",
       "      <td>13968</td>\n",
       "      <td>61</td>\n",
       "      <td>M</td>\n",
       "      <td>1968-04-13</td>\n",
       "    </tr>\n",
       "    <tr>\n",
       "      <th>5367</th>\n",
       "      <td>13971</td>\n",
       "      <td>67</td>\n",
       "      <td>F</td>\n",
       "      <td>1962-10-19</td>\n",
       "    </tr>\n",
       "    <tr>\n",
       "      <th>5368</th>\n",
       "      <td>13998</td>\n",
       "      <td>74</td>\n",
       "      <td>F</td>\n",
       "      <td>1953-08-12</td>\n",
       "    </tr>\n",
       "  </tbody>\n",
       "</table>\n",
       "<p>5369 rows × 4 columns</p>\n",
       "</div>"
      ],
      "text/plain": [
       "      client_id  district_id gender birth_date\n",
       "0             1           18      F 1970-12-13\n",
       "1             2            1      M 1945-02-04\n",
       "2             3            1      F 1940-10-09\n",
       "3             4            5      M 1956-12-01\n",
       "4             5            5      F 1960-07-03\n",
       "...         ...          ...    ...        ...\n",
       "5364      13955            1      F 1945-10-30\n",
       "5365      13956            1      M 1943-04-06\n",
       "5366      13968           61      M 1968-04-13\n",
       "5367      13971           67      F 1962-10-19\n",
       "5368      13998           74      F 1953-08-12\n",
       "\n",
       "[5369 rows x 4 columns]"
      ]
     },
     "execution_count": 500,
     "metadata": {},
     "output_type": "execute_result"
    }
   ],
   "source": [
    "# YYMMDD for men\n",
    "# YYMM+50DD for women\n",
    "\n",
    "client['gender'] = client.apply(lambda row: 'M' if (row['birth_number']//100)%100 < 50 else 'F', axis=1)\n",
    "client['birth_date'] = client.apply(lambda row: \"19{:02d}-{:02d}-{:02d}\".format((row['birth_number']//10000)%100,((row['birth_number']//100)%100 if row['gender'] == 'M' else (row['birth_number']//100)%100 - 50), (row['birth_number'])%100), axis=1)\n",
    "client.drop('birth_number', inplace=True, axis=1)\n",
    "client['birth_date'] = client['birth_date'].apply(pd.to_datetime)\n",
    "\n",
    "client"
   ]
  },
  {
   "cell_type": "code",
   "execution_count": 501,
   "metadata": {},
   "outputs": [],
   "source": [
    "def formatDate(df, column):\n",
    "    df[column] = df[column].apply(lambda cell: \"19{:02d}-{:02d}-{:02d}\".format((cell//10000)%100, (cell//100)%100, cell%100))\n",
    "    df[column] = df[column].apply(pd.to_datetime)\n",
    "\n",
    "formatDate(account, \"date\")\n",
    "formatDate(loan, \"date\")\n",
    "formatDate(trans, \"date\")\n",
    "formatDate(card, \"issued\")"
   ]
  },
  {
   "cell_type": "markdown",
   "metadata": {},
   "source": [
    "### Separate a date's fields\n",
    "\n",
    "We can divide the date column into day, year, month and day of week columns."
   ]
  },
  {
   "cell_type": "code",
   "execution_count": null,
   "metadata": {},
   "outputs": [],
   "source": [
    "def processDate(df, column):\n",
    "    df[column + \"_year\"]     = df[column].dt.year\n",
    "    df[column + \"_month\"]    = df[column].dt.month\n",
    "    df[column + \"_day\"]      = df[column].dt.day\n",
    "    df[column + \"_day_week\"] = df[column].dt.dayofweek\n",
    "    #df.drop(column, inplace=True, axis=1)\n",
    "\n",
    "processDate(account, \"date\")\n",
    "processDate(client, \"birth_date\")\n",
    "processDate(loan, \"date\")\n",
    "processDate(trans, \"date\")\n",
    "processDate(card, \"issued\")"
   ]
  },
  {
   "cell_type": "markdown",
   "metadata": {},
   "source": [
    "### Nulls"
   ]
  },
  {
   "cell_type": "markdown",
   "metadata": {},
   "source": [
    "#### Account"
   ]
  },
  {
   "cell_type": "code",
   "execution_count": null,
   "metadata": {},
   "outputs": [],
   "source": [
    "account.isnull().sum()"
   ]
  },
  {
   "cell_type": "markdown",
   "metadata": {},
   "source": [
    "#### Client"
   ]
  },
  {
   "cell_type": "code",
   "execution_count": null,
   "metadata": {},
   "outputs": [],
   "source": [
    "client.isnull().sum()"
   ]
  },
  {
   "cell_type": "markdown",
   "metadata": {},
   "source": [
    "#### Loan"
   ]
  },
  {
   "cell_type": "code",
   "execution_count": null,
   "metadata": {},
   "outputs": [],
   "source": [
    "loan.isnull().sum()"
   ]
  },
  {
   "cell_type": "markdown",
   "metadata": {},
   "source": [
    "#### Transaction"
   ]
  },
  {
   "cell_type": "code",
   "execution_count": null,
   "metadata": {},
   "outputs": [],
   "source": [
    "trans.isnull().sum()"
   ]
  },
  {
   "cell_type": "markdown",
   "metadata": {},
   "source": [
    "#### Card"
   ]
  },
  {
   "cell_type": "code",
   "execution_count": null,
   "metadata": {},
   "outputs": [],
   "source": [
    "card.isnull().sum()"
   ]
  },
  {
   "cell_type": "markdown",
   "metadata": {},
   "source": [
    "#### Disposition"
   ]
  },
  {
   "cell_type": "code",
   "execution_count": null,
   "metadata": {},
   "outputs": [],
   "source": [
    "disp.isnull().sum()"
   ]
  },
  {
   "cell_type": "markdown",
   "metadata": {},
   "source": [
    "#### District"
   ]
  },
  {
   "cell_type": "code",
   "execution_count": null,
   "metadata": {},
   "outputs": [],
   "source": [
    "district.isnull().sum()"
   ]
  },
  {
   "cell_type": "markdown",
   "metadata": {},
   "source": [
    "### Merging tables"
   ]
  },
  {
   "cell_type": "markdown",
   "metadata": {},
   "source": [
    "#### Merging client table with district table"
   ]
  },
  {
   "cell_type": "code",
   "execution_count": null,
   "metadata": {},
   "outputs": [],
   "source": [
    "client_district = client.merge(district, left_on='district_id', right_on='code ')\n",
    "client_district"
   ]
  },
  {
   "cell_type": "markdown",
   "metadata": {},
   "source": [
    "#### Merging Account table with Client table"
   ]
  },
  {
   "cell_type": "code",
   "execution_count": null,
   "metadata": {},
   "outputs": [],
   "source": [
    "account_client = disp.merge(client, left_on=\"client_id\", right_on='client_id')\n",
    "account_client = account_client.merge(account, left_on=\"account_id\", right_on=\"account_id\")\n",
    "account_client.rename({\"date\": \"account_creation_date\", \n",
    "                        'date_year': 'account_creation_year', \n",
    "                        'date_day': 'account_creation_day', \n",
    "                        \"date_month\": \"account_creation_month\", \n",
    "                        \"date_day_week\": \"account_creation_day_week\"}, axis=1, inplace=True)\n",
    "display(account_client)"
   ]
  },
  {
   "cell_type": "markdown",
   "metadata": {},
   "source": [
    "#### Merging Loan table with Account table"
   ]
  },
  {
   "cell_type": "code",
   "execution_count": null,
   "metadata": {},
   "outputs": [],
   "source": [
    "loan_account = account_client.merge(loan, left_on=\"account_id\", right_on='account_id', how=\"inner\")\n",
    "loan_account.rename({\"date\": \"loan_date\", \n",
    "                        'date_year': 'loan_year', \n",
    "                        'date_day': 'loan_day', \n",
    "                        \"date_month\": \"loan_month\", \n",
    "                        \"date_day_week\": \"loan_day_week\"}, axis=1, inplace=True)\n",
    "\n",
    "# remove the disponent entries\n",
    "loan_account_owners = loan_account[loan_account[\"type\"]!=\"DISPONENT\"]\n",
    "loan_account_owners\n",
    "display(loan_account.columns)\n",
    "loan_account.frequency"
   ]
  },
  {
   "cell_type": "markdown",
   "metadata": {},
   "source": [
    "#### Merging card table with client table"
   ]
  },
  {
   "cell_type": "code",
   "execution_count": null,
   "metadata": {},
   "outputs": [],
   "source": [
    "disp2 = disp.rename(columns={\"type\": \"disp_type\"})\n",
    "card2 = card.rename(columns={\"type\": \"card_type\"})\n",
    "\n",
    "card_disp = card2.merge(disp2, how=\"outer\")\n",
    "card_disp_client = pd.merge(card_disp, client).drop_duplicates(subset=['account_id'])\n",
    "card_disp_client"
   ]
  },
  {
   "cell_type": "markdown",
   "metadata": {},
   "source": [
    "### Adding client age column to loan"
   ]
  },
  {
   "cell_type": "code",
   "execution_count": null,
   "metadata": {},
   "outputs": [],
   "source": [
    "import datetime\n",
    "from datetime import datetime, date\n",
    "def age(born_date_str, loan_date_str):\n",
    "    born_date = datetime.strptime(str(born_date_str).split(\" \")[0], \"%Y-%m-%d\").date()\n",
    "    loan_date = datetime.strptime(str(loan_date_str).split(\" \")[0], \"%Y-%m-%d\").date()\n",
    "\n",
    "    return loan_date.year - born_date.year - ((loan_date.month, \n",
    "                                      loan_date.day) < (born_date.month, \n",
    "                                                    born_date.day))\n",
    "  \n",
    "col = loan_account_owners.apply(lambda row: age(row[\"birth_date\"], row[\"loan_date\"]), axis=1)\n",
    "loan_account_owners = loan_account_owners.assign(client_age=col.values)\n",
    "loan_account_owners[\"client_age\"]\n"
   ]
  },
  {
   "cell_type": "markdown",
   "metadata": {},
   "source": [
    "#### Merging client table"
   ]
  },
  {
   "cell_type": "code",
   "execution_count": null,
   "metadata": {},
   "outputs": [],
   "source": [
    "#disp_client_dist = disp.merge(client_district, left_on=\"client_id\", right_on=\"client_id\")\n",
    "#complete = pd.merge(account, pd.DataFrame(trans.groupby('account_id').size(), columns=['# trans']), right_index=True, left_on='account_id', how=\"outer\")\n",
    "#display(complete)\n",
    "\n",
    "\n",
    "# Merging Accounts' and Transactions' Data\n",
    "\n",
    "import numpy\n",
    "\n",
    "\n",
    "TRANS_OP_1 = \"credit in cash\"\n",
    "TRANS_OP_2 = \"credit card withdrawal\"\n",
    "TRANS_OP_3 = \"collection from another bank\"\n",
    "TRANS_OP_4 = \"remittance to another bank\"\n",
    "TRANS_OP_5 = \"withdrawal in cash\"\n",
    "\n",
    "TRANS_TYPE_1 = \"withdrawal\"\n",
    "TRANS_TYPE_2 = \"withdrawal in cash\"\n",
    "TRANS_TYPE_3 = \"credit\"\n",
    "\n",
    "complete = pd.merge(account, pd.DataFrame(trans.groupby('account_id').size(), columns=['trans_num']), right_index=True, left_on='account_id', how=\"outer\")\n",
    "complete = pd.merge(complete, pd.DataFrame(trans[trans['operation']=='credit in cash'].groupby('account_id').size(), columns=['trans_op_1_num']), right_index=True, left_on='account_id', how=\"outer\")\n",
    "complete = pd.merge(complete, pd.DataFrame(trans[trans['operation']=='credit card withdrawal'].groupby('account_id').size(), columns=['trans_op_2_num']), right_index=True, left_on='account_id', how=\"outer\")\n",
    "complete = pd.merge(complete, pd.DataFrame(trans[trans['operation']=='collection from another bank'].groupby('account_id').size(), columns=['trans_op_3_num']), right_index=True, left_on='account_id', how=\"outer\")\n",
    "complete = pd.merge(complete, pd.DataFrame(trans[trans['operation']=='remittance to another bank'].groupby('account_id').size(), columns=['trans_op_4_num']), right_index=True, left_on='account_id', how=\"outer\")\n",
    "complete = pd.merge(complete, pd.DataFrame(trans[trans['operation']=='withdrawal in cash'].groupby('account_id').size(), columns=['trans_op_5_num']), right_index=True, left_on='account_id', how=\"outer\")\n",
    "\n",
    "complete = pd.merge(complete, pd.DataFrame(trans[trans['type']=='withdrawal'].groupby('account_id').size(), columns=['trans_type_1_num']), right_index=True, left_on='account_id', how=\"outer\")\n",
    "complete = pd.merge(complete, pd.DataFrame(trans[trans['type']=='withdrawal in cash'].groupby('account_id').size(), columns=['trans_type_2_num']), right_index=True, left_on='account_id', how=\"outer\")\n",
    "complete = pd.merge(complete, pd.DataFrame(trans[trans['type']=='credit'].groupby('account_id').size(), columns=['trans_type_3_num']), right_index=True, left_on='account_id', how=\"outer\")\n",
    "\n",
    "complete = pd.merge(complete, pd.DataFrame(trans.groupby('account_id').amount.mean().round(2)).rename(columns={'amount':'avg trans amount'}), right_index=True, left_on='account_id', how=\"outer\")\n",
    "complete = pd.merge(complete, pd.DataFrame(trans.groupby('account_id').balance.mean().round(2)).rename(columns={'balance':'avg trans balance'}), right_index=True, left_on='account_id', how=\"outer\")\n",
    "# (4500, 15)\n",
    "display(complete)\n",
    "'''\n",
    "# ------------------------\n",
    "\n",
    "\n",
    "# Merging with Loans' Data\n",
    "complete = pd.merge(complete, loan.rename(columns={'date': 'loan date', 'amount': 'loan amount', 'duration': 'loan duration (mths)', 'payments': 'loan payments', 'status': 'loan status'}))\n",
    "# (328, 21)\n",
    "\n",
    "# ------------------------\n",
    "\n",
    "# Merging with Districts' Data\n",
    "complete = pd.merge(complete, district.rename(columns={'code ': 'district_id', 'name ': 'district_name', 'region': 'district_region'}))\n",
    "# (328, 36)\n",
    "\n",
    "# ------------------------\n",
    "\n",
    "# Merging Disp' and Cards' Data\n",
    "disp = disp.rename(columns={\"type\": \"disp type\"})\n",
    "disp['has disponent'] = numpy.where(disp['disp type'] == 'DISPONENT', True, False)\n",
    "card = card.rename(columns={\"type\": \"card type\"})\n",
    "disp_card = pd.merge(disp, card, how=\"outer\")\n",
    "# (5369, 9)\n",
    "\n",
    "# ------------------------\n",
    "\n",
    "# Merging Previous with Clients' Data\n",
    "disp_card_clie = pd.merge(disp_card, client).drop_duplicates(subset=['account_id']).drop(columns=['has disponent', 'disp type', 'disp_id'])\n",
    "# (4500, 7)\n",
    "temp = pd.merge(disp_card_clie, pd.DataFrame(disp_card.groupby('account_id').size(), columns = ['count owner']), right_index=True, left_on='account_id', how=\"outer\")\n",
    "disp_card_clie['has disponent'] = numpy.where(temp['count owner'] == 2, True, False)\n",
    "# (4500, 8)\n",
    "\n",
    "# ------------------------\n",
    "\n",
    "# Merging Previous subset with the rest\n",
    "complete = pd.merge(complete, disp_card_clie)\n",
    "\n",
    "\n",
    "print(complete.shape)\n",
    "complete\n",
    "\n",
    "'''\n"
   ]
  },
  {
   "cell_type": "markdown",
   "metadata": {},
   "source": [
    "#### Merging "
   ]
  },
  {
   "cell_type": "markdown",
   "metadata": {},
   "source": [
    "### Add No card type to Card client table"
   ]
  },
  {
   "cell_type": "code",
   "execution_count": null,
   "metadata": {},
   "outputs": [],
   "source": [
    "card_disp_client.loc[card_disp_client[\"card_type\"].isna()] = \"no card\"\n",
    "card_disp_client[\"card_type\"]"
   ]
  },
  {
   "cell_type": "markdown",
   "metadata": {},
   "source": [
    "### Add customer ratio column to district table"
   ]
  },
  {
   "cell_type": "code",
   "execution_count": null,
   "metadata": {},
   "outputs": [],
   "source": [
    "district_client = pd.DataFrame(client_district.groupby(['name ', \"no. of inhabitants\"], axis = 0)['name '].count())\n",
    "district_client.columns = ['count']\n",
    "district_client.reset_index(inplace=True)\n",
    "district_client['client_ratio'] = district_client['count'] / district_client[\"no. of inhabitants\"] * 100\n",
    "district = district.merge(district_client[[\"name \",\"client_ratio\"]], left_on='name ', right_on='name ')\n",
    "district"
   ]
  },
  {
   "cell_type": "markdown",
   "metadata": {},
   "source": [
    "### Add inhabitant number (in millions) column to district table"
   ]
  },
  {
   "cell_type": "code",
   "execution_count": null,
   "metadata": {},
   "outputs": [],
   "source": [
    "district[\"no. of inhabitants_mln\"] = district[\"no. of inhabitants\"] / 1000000\n",
    "district"
   ]
  },
  {
   "cell_type": "markdown",
   "metadata": {},
   "source": [
    "# Data analysis"
   ]
  },
  {
   "cell_type": "markdown",
   "metadata": {},
   "source": [
    "### Transaction statistics"
   ]
  },
  {
   "cell_type": "code",
   "execution_count": null,
   "metadata": {},
   "outputs": [],
   "source": [
    "trans.describe()"
   ]
  },
  {
   "cell_type": "markdown",
   "metadata": {},
   "source": [
    "### District statistics"
   ]
  },
  {
   "cell_type": "code",
   "execution_count": null,
   "metadata": {},
   "outputs": [],
   "source": [
    "district.describe()"
   ]
  },
  {
   "cell_type": "markdown",
   "metadata": {},
   "source": [
    "### District inhabitant, average salary, customer ratio"
   ]
  },
  {
   "cell_type": "code",
   "execution_count": null,
   "metadata": {},
   "outputs": [],
   "source": [
    "#plotting Number of inhabitants vs. Average salary vs. Customers proportion within population of districts\n",
    "\n",
    "sns.set_style(style=\"darkgrid\")\n",
    "\n",
    "## Initialize the matplotlib figure:\n",
    "fig2, (ax1, ax2, ax3) = plt.subplots(1,3, figsize=(12,16), sharey=False)\n",
    "fig2.tight_layout()  #When working with 'tight_layout', the subplot must be adjusted [https://stackoverflow.com/questions/7066121/how-to-set-a-single-main-title-above-all-the-subplots-with-pyplot]\n",
    "fig2.subplots_adjust(top=0.96)  #Adjusting the space for the superior title\n",
    "\n",
    "## Plot the District population\n",
    "sns.set_color_codes(\"muted\")\n",
    "sns.barplot(x=\"no. of inhabitants_mln\", y=\"name \", data=district, label = 'District population (mln)',color=\"skyblue\", ax=ax1)\n",
    "## Add a legend and informative axis label\n",
    "ax1.legend(ncol=2, loc=\"lower right\", frameon=True)\n",
    "ax1.set(xlim=(0, 1.21), ylabel=\"\", xlabel=\"District population (mln)\")\n",
    "sns.despine(left=True, bottom=True,ax=ax1)\n",
    "\n",
    "## Plot the Average salary\n",
    "sns.set_color_codes(\"muted\")\n",
    "sns.barplot(x=\"average salary \", y=\"name \", data=district, label=\"Average salary\", color=\"skyblue\", ax=ax2)\n",
    "## Add a legend and informative axis label\n",
    "ax2.legend(ncol=2, loc=\"lower right\", frameon=True)\n",
    "ax2.set(xlim=(0, 12541), ylabel=\"\", xlabel=\"average salary \")  #The xlim value comes from the maximum value in the dataset.\n",
    "ax2.set_yticklabels([''])\n",
    "sns.despine(left=True, bottom=True, ax=ax2)\n",
    "\n",
    "sns.set_color_codes(\"muted\")\n",
    "sns.barplot(x=\"client_ratio\", y=\"name \", data=district, label=\"% of clients in population\", color=\"skyblue\", ax=ax3)\n",
    "## Add a legend and informative axis label\n",
    "ax3.legend(ncol=2, loc=\"lower right\", frameon=True)\n",
    "ax3.set(xlim=(0, 0.145), ylabel=\"\", xlabel=\"Relative number of clients comparing to district population (%)\")  #The xlim value comes from the maximum value in the dataset.\n",
    "ax3.set_yticklabels([''])\n",
    "sns.despine(left=True, bottom=True, ax=ax3)\n",
    "\n",
    "plt.suptitle('Number of inhabitants vs. Average salary vs. Customer ratio', fontsize=14, fontweight='bold')\n",
    "plt.show()"
   ]
  },
  {
   "cell_type": "markdown",
   "metadata": {},
   "source": [
    "### Loan amount vs payment duration"
   ]
  },
  {
   "cell_type": "code",
   "execution_count": null,
   "metadata": {},
   "outputs": [],
   "source": [
    "#sns.set_style(style=\"darkgrid\")\n",
    "#fig = plt.gcf()\n",
    "#fig.set_size_inches(7, 7)\n",
    "#display(loan)\n",
    "#sns.scatterplot(data=loan, x=\"duration\", y=\"amount\", color=\"red\")\n",
    "#plt.show()\n",
    "\n",
    "\n"
   ]
  },
  {
   "cell_type": "markdown",
   "metadata": {},
   "source": [
    "### Gender proportion"
   ]
  },
  {
   "cell_type": "code",
   "execution_count": null,
   "metadata": {},
   "outputs": [],
   "source": [
    "colors = sns.color_palette('bright')[0:5]\n",
    "plt.pie(client['gender'].value_counts(), labels=['M', 'F'], colors=colors, autopct='%1.1f%%')\n",
    "plt.show()\n",
    "\n",
    "sns.set_style(style=\"darkgrid\")\n",
    "fig = plt.gcf()\n",
    "fig.set_size_inches(7, 7)\n",
    "sns.countplot(data=client, x=\"gender\", color=\"skyblue\", order=client[\"gender\"].value_counts().index )\n",
    "plt.show()"
   ]
  },
  {
   "cell_type": "markdown",
   "metadata": {},
   "source": [
    "### Age at loan distribution"
   ]
  },
  {
   "cell_type": "code",
   "execution_count": null,
   "metadata": {},
   "outputs": [],
   "source": [
    "sns.set_style(style=\"darkgrid\")\n",
    "fig = plt.gcf()\n",
    "fig.set_size_inches(7, 7)\n",
    "\n",
    "hp = sns.histplot(data=loan_account_owners, x=\"client_age\", color=\"skyblue\", binwidth=2, stat=\"density\")\n",
    "kp = sns.kdeplot(data=loan_account_owners, x=\"client_age\", color=\"blue\", ax=hp, label=\"Kernel density estimation\")\n",
    "#plt.title(fig_title)\n",
    "plt.legend()"
   ]
  },
  {
   "cell_type": "markdown",
   "metadata": {},
   "source": [
    "### Loan status proportion"
   ]
  },
  {
   "cell_type": "code",
   "execution_count": null,
   "metadata": {},
   "outputs": [],
   "source": [
    "colors = sns.color_palette('bright')[0:5]\n",
    "plt.pie(loan['status'].value_counts(), labels=['payed off', 'in debt'], colors = colors, autopct='%1.1f%%')\n",
    "plt.show()\n",
    "\n",
    "sns.set_style(style=\"darkgrid\")\n",
    "fig = plt.gcf()\n",
    "fig.set_size_inches(7, 7)\n",
    "# TODO\n",
    "sns.countplot(data=loan, x=\"status\", color=\"skyblue\", order=loan[\"status\"].value_counts().index )\n",
    "plt.show()\n"
   ]
  },
  {
   "cell_type": "markdown",
   "metadata": {},
   "source": [
    "### Card type proportion"
   ]
  },
  {
   "cell_type": "code",
   "execution_count": null,
   "metadata": {},
   "outputs": [],
   "source": [
    "colors = sns.color_palette('bright')[0:5]\n",
    "plt.pie(card['type'].value_counts(), labels=[\"classic\", \"gold\", \"junior\"], colors = colors, autopct='%1.1f%%')\n",
    "plt.show()\n",
    "\n",
    "sns.set_style(style=\"darkgrid\")\n",
    "fig = plt.gcf()\n",
    "fig.set_size_inches(7, 7)\n",
    "sns.countplot(data=card, x=\"type\", color=\"skyblue\", order=card[\"type\"].value_counts().index )\n",
    "plt.show()\n",
    "\n",
    "\n",
    "colors = sns.color_palette('bright')[0:5]\n",
    "plt.pie(card_disp_client['card_type'].value_counts(), labels=[\"classic\", \"gold\", \"junior\", \"no card\"],colors = colors, autopct='%1.1f%%')\n",
    "plt.show()\n",
    "\n",
    "sns.set_style(style=\"darkgrid\")\n",
    "fig = plt.gcf()\n",
    "fig.set_size_inches(7, 7)\n",
    "sns.countplot(data=card_disp_client, x=\"card_type\", color=\"skyblue\", order=card_disp_client[\"card_type\"].value_counts().index )\n",
    "plt.show()\n",
    "#plt.title()\n",
    "  "
   ]
  },
  {
   "cell_type": "markdown",
   "metadata": {},
   "source": [
    "### Card type by sex"
   ]
  },
  {
   "cell_type": "code",
   "execution_count": null,
   "metadata": {},
   "outputs": [],
   "source": [
    "sns.set_style(style=\"darkgrid\")\n",
    "\n",
    "card_disp_client.loc[card_disp_client[\"card_type\"] == \"no card\"] = np.nan\n",
    "\n",
    "\n",
    "# Draw a nested barplot by species and sex\n",
    "g = sns.catplot(\n",
    "    data=card_disp_client, kind=\"count\",\n",
    "    x=\"card_type\", hue=\"gender\",\n",
    "    errorbar=\"sd\", palette=\"dark\", alpha=.6, height=6\n",
    ")\n",
    "g.despine(left=True)\n",
    "g.set_axis_labels(\"\", \"Count\")\n",
    "g.legend.set_title(\"\")"
   ]
  },
  {
   "cell_type": "markdown",
   "metadata": {},
   "source": [
    "### Account issuance"
   ]
  },
  {
   "cell_type": "code",
   "execution_count": null,
   "metadata": {},
   "outputs": [],
   "source": [
    "sns.set_style(style=\"darkgrid\")\n",
    "fig = plt.gcf()\n",
    "fig.set_size_inches(7, 7)\n",
    "sns.countplot(data=account, x=\"frequency\", color=\"skyblue\", order=account[\"frequency\"].value_counts().index )\n",
    "plt.show()"
   ]
  },
  {
   "cell_type": "markdown",
   "metadata": {},
   "source": [
    "### Urban inhabitants vs inhabitant number and average salary"
   ]
  },
  {
   "cell_type": "code",
   "execution_count": null,
   "metadata": {},
   "outputs": [],
   "source": [
    "fig, ax = plt.subplots()\n",
    "sns.scatterplot(district, x=\"no. of inhabitants\", y=\"ratio of urban inhabitants \", hue=\"average salary \", palette=\"magma\" )\n",
    "norm = plt.Normalize(district[\"average salary \"].min(), district[\"average salary \"].max())\n",
    "sm = plt.cm.ScalarMappable(cmap=\"magma\", norm=norm)\n",
    "sm.set_array([])\n",
    "\n",
    "# Remove the legend and add a colorbar\n",
    "ax.get_legend().remove()\n",
    "ax.figure.colorbar(sm)\n",
    "#ax.set_xlabel(\"no. of inhabitants\")\n",
    "plt.show()"
   ]
  },
  {
   "cell_type": "markdown",
   "metadata": {},
   "source": [
    "### Loan amount distribution"
   ]
  },
  {
   "cell_type": "code",
   "execution_count": null,
   "metadata": {},
   "outputs": [],
   "source": [
    "sns.set_style(style=\"darkgrid\")\n",
    "fig = plt.gcf()\n",
    "fig.set_size_inches(7, 7)\n",
    "\n",
    "hp = sns.histplot(data=loan, x=\"amount\", color=\"skyblue\", binwidth=10000, stat=\"density\")\n",
    "kp = sns.kdeplot(data=loan, x=\"amount\", color=\"blue\", ax=hp, label=\"Kernel density estimation\")\n",
    "#plt.title(fig_title)\n",
    "plt.legend()\n",
    "plt.show()"
   ]
  },
  {
   "cell_type": "markdown",
   "metadata": {},
   "source": [
    "### Average salary distribution"
   ]
  },
  {
   "cell_type": "code",
   "execution_count": null,
   "metadata": {},
   "outputs": [],
   "source": [
    "sns.set_style(style=\"darkgrid\")\n",
    "fig = plt.gcf()\n",
    "fig.set_size_inches(7, 7)\n",
    "\n",
    "hp = sns.histplot(data=district, x=\"average salary \", color=\"skyblue\", binwidth=500, stat=\"density\")\n",
    "kp = sns.kdeplot(data=district, x=\"average salary \", color=\"blue\", ax=hp, label=\"Kernel density estimation\")\n",
    "#plt.title(fig_title)\n",
    "plt.legend()\n",
    "plt.show()"
   ]
  },
  {
   "cell_type": "markdown",
   "metadata": {},
   "source": [
    "### "
   ]
  },
  {
   "cell_type": "code",
   "execution_count": null,
   "metadata": {},
   "outputs": [],
   "source": [
    "fig = plt.figure()\n",
    "fig.set_size_inches(9, 9)\n",
    "\n",
    "ax = fig.add_subplot(111, projection = '3d')\n",
    "\n",
    "x = district[\"ratio of urban inhabitants \"]\n",
    "y = district[\"unemploymant rate '96 \"]\n",
    "z = district[\"no. of inhabitants\"]\n",
    "c = district[\"average salary \"]\n",
    "\n",
    "ax.set_xlabel(\"ratio of urban inhabitants\")\n",
    "ax.set_ylabel(\"unemployment rate\")\n",
    "ax.set_zlabel(\"number of inhabitants\")\n",
    "\n",
    "img = ax.scatter(x, y, z, c=c, cmap=\"magma\")\n",
    "fig.colorbar(img)\n",
    "plt.show()"
   ]
  },
  {
   "cell_type": "markdown",
   "metadata": {},
   "source": [
    "### "
   ]
  },
  {
   "cell_type": "code",
   "execution_count": null,
   "metadata": {},
   "outputs": [],
   "source": []
  },
  {
   "cell_type": "code",
   "execution_count": null,
   "metadata": {},
   "outputs": [],
   "source": [
    "trans_acc = pd.merge(trans, account, on='account_id')\n",
    "trans_acc.head()\n",
    "#transactions per account\n",
    "max(trans_acc['account_id'].value_counts())"
   ]
  },
  {
   "cell_type": "code",
   "execution_count": null,
   "metadata": {},
   "outputs": [],
   "source": [
    "loan_acc = pd.merge(loan, account, on='account_id')\n",
    "print(loan.shape[0], account.shape[0])\n",
    "max(loan_acc['account_id'].value_counts())"
   ]
  },
  {
   "cell_type": "code",
   "execution_count": null,
   "metadata": {},
   "outputs": [],
   "source": [
    "no_owners_per_account = disp['account_id'].value_counts()\n",
    "print(no_owners_per_account.max())\n",
    "print(no_owners_per_account.min())\n",
    "print(no_owners_per_account.std())\n",
    "print(no_owners_per_account.mean())"
   ]
  }
 ],
 "metadata": {
  "kernelspec": {
   "display_name": "Python 3.8.3",
   "language": "python",
   "name": "python3"
  },
  "language_info": {
   "codemirror_mode": {
    "name": "ipython",
    "version": 3
   },
   "file_extension": ".py",
   "mimetype": "text/x-python",
   "name": "python",
   "nbconvert_exporter": "python",
   "pygments_lexer": "ipython3",
   "version": "3.8.3"
  },
  "orig_nbformat": 4,
  "vscode": {
   "interpreter": {
    "hash": "a90aeebcf29d64a654773811cc170cb25061cb2498f10ac689db374c7bf325de"
   }
  }
 },
 "nbformat": 4,
 "nbformat_minor": 2
}
